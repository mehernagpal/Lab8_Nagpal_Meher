{
 "cells": [
  {
   "cell_type": "code",
   "execution_count": 1,
   "id": "c7a0f9fe-733e-4c8a-ae80-42a8796aa509",
   "metadata": {},
   "outputs": [
    {
     "name": "stderr",
     "output_type": "stream",
     "text": [
      "/usr/local/share/pynq-venv/lib/python3.8/site-packages/pynq/pl_server/xrt_device.py:59: UserWarning: xbutil failed to run - unable to determine XRT version\n",
      "  warnings.warn(\"xbutil failed to run - unable to determine XRT version\")\n"
     ]
    }
   ],
   "source": [
    "from pynq import GPIO\n",
    "from time import sleep"
   ]
  },
  {
   "cell_type": "code",
   "execution_count": 2,
   "id": "3f91e5ef-cab2-4a4d-88c6-09dbc44ab0ad",
   "metadata": {},
   "outputs": [],
   "source": [
    "state0 = GPIO(GPIO.get_gpio_pin(0), 'out')\n",
    "state1 = GPIO(GPIO.get_gpio_pin(5), 'out')\n",
    "state2 = GPIO(GPIO.get_gpio_pin(2), 'out')\n",
    "state3 = GPIO(GPIO.get_gpio_pin(3), 'out')\n",
    "\n",
    "button = GPIO(GPIO.get_gpio_pin(1), 'in')"
   ]
  },
  {
   "cell_type": "code",
   "execution_count": null,
   "id": "877b9170-c497-4eeb-a0fe-e0cd695f9560",
   "metadata": {},
   "outputs": [],
   "source": [
    "button_delay = 1\n",
    "yellow_delay = 3\n",
    "walk_delay = 10\n",
    "running = 0\n",
    "\n",
    "state0.write(1)\n",
    "\n",
    "while(1):\n",
    "    walk = button.read()\n",
    "    \n",
    "    if(walk == 1):\n",
    "        running = 1\n",
    "\n",
    "    while(running):\n",
    "        sleep(button_delay)\n",
    "        state0.write(0)\n",
    "        state1.write(1)\n",
    "\n",
    "        sleep(yellow_delay)\n",
    "        state1.write(0)\n",
    "        state2.write(1)\n",
    "\n",
    "        sleep(walk_delay)\n",
    "        state2.write(0)\n",
    "        state3.write(1)\n",
    "\n",
    "        sleep(yellow_delay)\n",
    "        state3.write(0)\n",
    "        state0.write(1)\n",
    "\n",
    "        running = 0"
   ]
  },
  {
   "cell_type": "code",
   "execution_count": null,
   "id": "c460507f-aa73-4ce5-8221-e44137ed26e5",
   "metadata": {},
   "outputs": [],
   "source": []
  }
 ],
 "metadata": {
  "kernelspec": {
   "display_name": "Python 3",
   "language": "python",
   "name": "python3"
  },
  "language_info": {
   "codemirror_mode": {
    "name": "ipython",
    "version": 3
   },
   "file_extension": ".py",
   "mimetype": "text/x-python",
   "name": "python",
   "nbconvert_exporter": "python",
   "pygments_lexer": "ipython3",
   "version": "3.8.10"
  }
 },
 "nbformat": 4,
 "nbformat_minor": 5
}
